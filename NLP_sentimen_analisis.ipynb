{
  "nbformat": 4,
  "nbformat_minor": 0,
  "metadata": {
    "colab": {
      "name": "NLP sentimen analisis.ipynb",
      "provenance": [],
      "collapsed_sections": [
        "Jv9JeZw952PG",
        "dgKkHbLOJrff",
        "THFr5S4XKnVC",
        "-Ob3KLlbMCiV"
      ],
      "mount_file_id": "1z0CqLiHtNSm6UQxE-5PkAOn2xdpAcdW1",
      "authorship_tag": "ABX9TyMjDncdjV3+nP6LxjurnaBl",
      "include_colab_link": true
    },
    "kernelspec": {
      "name": "python3",
      "display_name": "Python 3"
    },
    "language_info": {
      "name": "python"
    }
  },
  "cells": [
    {
      "cell_type": "markdown",
      "metadata": {
        "id": "view-in-github",
        "colab_type": "text"
      },
      "source": [
        "<a href=\"https://colab.research.google.com/github/Ilmif/nlp-hotel-review/blob/main/NLP_sentimen_analisis.ipynb\" target=\"_parent\"><img src=\"https://colab.research.google.com/assets/colab-badge.svg\" alt=\"Open In Colab\"/></a>"
      ]
    },
    {
      "cell_type": "markdown",
      "source": [
        "### 1. Import Library yang dibutuhkan untuk analisis sentimen dan stowords yang sesuai untuk analisis review hotel"
      ],
      "metadata": {
        "id": "wMTB719rDWAM"
      }
    },
    {
      "cell_type": "code",
      "source": [
        "# Standard Library\n",
        "import string\n",
        "import re\n",
        "\n",
        "# Third-party Library\n",
        "import numpy as np\n",
        "import pandas as pd\n",
        "import matplotlib.pyplot as plt\n",
        "import seaborn as sns\n",
        "\n",
        "import nltk\n",
        "from nltk.corpus import stopwords\n",
        "nltk.download(\"punkt\")\n",
        "nltk.download(\"stopwords\")\n",
        "id_stop = set(stopwords.words(\"indonesian\"))"
      ],
      "metadata": {
        "colab": {
          "base_uri": "https://localhost:8080/"
        },
        "id": "mq2dodHWEU5W",
        "outputId": "0a0f0ae2-30da-4745-b9cc-2582a0fcc693"
      },
      "execution_count": 1,
      "outputs": [
        {
          "output_type": "stream",
          "name": "stdout",
          "text": [
            "[nltk_data] Downloading package punkt to /root/nltk_data...\n",
            "[nltk_data]   Unzipping tokenizers/punkt.zip.\n",
            "[nltk_data] Downloading package stopwords to /root/nltk_data...\n",
            "[nltk_data]   Unzipping corpora/stopwords.zip.\n"
          ]
        }
      ]
    },
    {
      "cell_type": "markdown",
      "source": [
        "### 2. Import data set review hotel dan cek dataset"
      ],
      "metadata": {
        "id": "fwUkgf-JEl5r"
      }
    },
    {
      "cell_type": "code",
      "source": [
        "ds = pd.read_csv(\"https://raw.githubusercontent.com/rakkaalhazimi/Data-NLP-Bahasa-Indonesia/main/review_hotel.csv\")\n",
        "ds.info()"
      ],
      "metadata": {
        "colab": {
          "base_uri": "https://localhost:8080/"
        },
        "id": "lzZqigjZElGy",
        "outputId": "be3173d2-df55-43da-bbc3-bd7847ddf4a1"
      },
      "execution_count": 2,
      "outputs": [
        {
          "output_type": "stream",
          "name": "stdout",
          "text": [
            "<class 'pandas.core.frame.DataFrame'>\n",
            "RangeIndex: 14856 entries, 0 to 14855\n",
            "Data columns (total 3 columns):\n",
            " #   Column       Non-Null Count  Dtype \n",
            "---  ------       --------------  ----- \n",
            " 0   review_id    14856 non-null  object\n",
            " 1   review_text  14856 non-null  object\n",
            " 2   category     14856 non-null  int64 \n",
            "dtypes: int64(1), object(2)\n",
            "memory usage: 348.3+ KB\n"
          ]
        }
      ]
    },
    {
      "cell_type": "markdown",
      "source": [
        "review id adalah primary key yaitu key yang khusus untuk menunjukkan id penulis, kemudian untuk review text adalah inputan dari user atau penulis mengenai hotel, kemudian kolom category ialah kolom target dari dataset yang mengkategorykan analisis sentimen."
      ],
      "metadata": {
        "id": "1wYsiQQAFPt3"
      }
    },
    {
      "cell_type": "code",
      "source": [
        "ds.head(5)"
      ],
      "metadata": {
        "colab": {
          "base_uri": "https://localhost:8080/",
          "height": 206
        },
        "id": "5psF53TmFojn",
        "outputId": "3cbeb7a5-b231-41d6-9bca-27841d2355b8"
      },
      "execution_count": 3,
      "outputs": [
        {
          "output_type": "execute_result",
          "data": {
            "text/plain": [
              "                          review_id  \\\n",
              "0  0fc651bfdd38a3b4ba19ef9d0d1e92e3   \n",
              "1  7d8cb2e465c5602e51c1ba8710e8ff16   \n",
              "2  1f4447c73e5e1aac462d05b0ecbd5a55   \n",
              "3  b9aefbfb0debbfff43f8b268c82b43c0   \n",
              "4  e2afef18bd695fae43d4d53b8c547bd4   \n",
              "\n",
              "                                         review_text  category  \n",
              "0  Penginapannya rapi, bersih, suasana tenang, pe...         1  \n",
              "1  wifi tidak sampai kamar, tidak tersedia heater...         0  \n",
              "2  Lantai kamar mandi kotor, bau, dan seperti sdh...         0  \n",
              "3  Wc jorok.. Kasur tidak dibersihkan,, handuk ti...         0  \n",
              "4                                         bocor lagi         0  "
            ],
            "text/html": [
              "\n",
              "  <div id=\"df-65e0cbe6-90fc-483f-867c-9e857a419580\">\n",
              "    <div class=\"colab-df-container\">\n",
              "      <div>\n",
              "<style scoped>\n",
              "    .dataframe tbody tr th:only-of-type {\n",
              "        vertical-align: middle;\n",
              "    }\n",
              "\n",
              "    .dataframe tbody tr th {\n",
              "        vertical-align: top;\n",
              "    }\n",
              "\n",
              "    .dataframe thead th {\n",
              "        text-align: right;\n",
              "    }\n",
              "</style>\n",
              "<table border=\"1\" class=\"dataframe\">\n",
              "  <thead>\n",
              "    <tr style=\"text-align: right;\">\n",
              "      <th></th>\n",
              "      <th>review_id</th>\n",
              "      <th>review_text</th>\n",
              "      <th>category</th>\n",
              "    </tr>\n",
              "  </thead>\n",
              "  <tbody>\n",
              "    <tr>\n",
              "      <th>0</th>\n",
              "      <td>0fc651bfdd38a3b4ba19ef9d0d1e92e3</td>\n",
              "      <td>Penginapannya rapi, bersih, suasana tenang, pe...</td>\n",
              "      <td>1</td>\n",
              "    </tr>\n",
              "    <tr>\n",
              "      <th>1</th>\n",
              "      <td>7d8cb2e465c5602e51c1ba8710e8ff16</td>\n",
              "      <td>wifi tidak sampai kamar, tidak tersedia heater...</td>\n",
              "      <td>0</td>\n",
              "    </tr>\n",
              "    <tr>\n",
              "      <th>2</th>\n",
              "      <td>1f4447c73e5e1aac462d05b0ecbd5a55</td>\n",
              "      <td>Lantai kamar mandi kotor, bau, dan seperti sdh...</td>\n",
              "      <td>0</td>\n",
              "    </tr>\n",
              "    <tr>\n",
              "      <th>3</th>\n",
              "      <td>b9aefbfb0debbfff43f8b268c82b43c0</td>\n",
              "      <td>Wc jorok.. Kasur tidak dibersihkan,, handuk ti...</td>\n",
              "      <td>0</td>\n",
              "    </tr>\n",
              "    <tr>\n",
              "      <th>4</th>\n",
              "      <td>e2afef18bd695fae43d4d53b8c547bd4</td>\n",
              "      <td>bocor lagi</td>\n",
              "      <td>0</td>\n",
              "    </tr>\n",
              "  </tbody>\n",
              "</table>\n",
              "</div>\n",
              "      <button class=\"colab-df-convert\" onclick=\"convertToInteractive('df-65e0cbe6-90fc-483f-867c-9e857a419580')\"\n",
              "              title=\"Convert this dataframe to an interactive table.\"\n",
              "              style=\"display:none;\">\n",
              "        \n",
              "  <svg xmlns=\"http://www.w3.org/2000/svg\" height=\"24px\"viewBox=\"0 0 24 24\"\n",
              "       width=\"24px\">\n",
              "    <path d=\"M0 0h24v24H0V0z\" fill=\"none\"/>\n",
              "    <path d=\"M18.56 5.44l.94 2.06.94-2.06 2.06-.94-2.06-.94-.94-2.06-.94 2.06-2.06.94zm-11 1L8.5 8.5l.94-2.06 2.06-.94-2.06-.94L8.5 2.5l-.94 2.06-2.06.94zm10 10l.94 2.06.94-2.06 2.06-.94-2.06-.94-.94-2.06-.94 2.06-2.06.94z\"/><path d=\"M17.41 7.96l-1.37-1.37c-.4-.4-.92-.59-1.43-.59-.52 0-1.04.2-1.43.59L10.3 9.45l-7.72 7.72c-.78.78-.78 2.05 0 2.83L4 21.41c.39.39.9.59 1.41.59.51 0 1.02-.2 1.41-.59l7.78-7.78 2.81-2.81c.8-.78.8-2.07 0-2.86zM5.41 20L4 18.59l7.72-7.72 1.47 1.35L5.41 20z\"/>\n",
              "  </svg>\n",
              "      </button>\n",
              "      \n",
              "  <style>\n",
              "    .colab-df-container {\n",
              "      display:flex;\n",
              "      flex-wrap:wrap;\n",
              "      gap: 12px;\n",
              "    }\n",
              "\n",
              "    .colab-df-convert {\n",
              "      background-color: #E8F0FE;\n",
              "      border: none;\n",
              "      border-radius: 50%;\n",
              "      cursor: pointer;\n",
              "      display: none;\n",
              "      fill: #1967D2;\n",
              "      height: 32px;\n",
              "      padding: 0 0 0 0;\n",
              "      width: 32px;\n",
              "    }\n",
              "\n",
              "    .colab-df-convert:hover {\n",
              "      background-color: #E2EBFA;\n",
              "      box-shadow: 0px 1px 2px rgba(60, 64, 67, 0.3), 0px 1px 3px 1px rgba(60, 64, 67, 0.15);\n",
              "      fill: #174EA6;\n",
              "    }\n",
              "\n",
              "    [theme=dark] .colab-df-convert {\n",
              "      background-color: #3B4455;\n",
              "      fill: #D2E3FC;\n",
              "    }\n",
              "\n",
              "    [theme=dark] .colab-df-convert:hover {\n",
              "      background-color: #434B5C;\n",
              "      box-shadow: 0px 1px 3px 1px rgba(0, 0, 0, 0.15);\n",
              "      filter: drop-shadow(0px 1px 2px rgba(0, 0, 0, 0.3));\n",
              "      fill: #FFFFFF;\n",
              "    }\n",
              "  </style>\n",
              "\n",
              "      <script>\n",
              "        const buttonEl =\n",
              "          document.querySelector('#df-65e0cbe6-90fc-483f-867c-9e857a419580 button.colab-df-convert');\n",
              "        buttonEl.style.display =\n",
              "          google.colab.kernel.accessAllowed ? 'block' : 'none';\n",
              "\n",
              "        async function convertToInteractive(key) {\n",
              "          const element = document.querySelector('#df-65e0cbe6-90fc-483f-867c-9e857a419580');\n",
              "          const dataTable =\n",
              "            await google.colab.kernel.invokeFunction('convertToInteractive',\n",
              "                                                     [key], {});\n",
              "          if (!dataTable) return;\n",
              "\n",
              "          const docLinkHtml = 'Like what you see? Visit the ' +\n",
              "            '<a target=\"_blank\" href=https://colab.research.google.com/notebooks/data_table.ipynb>data table notebook</a>'\n",
              "            + ' to learn more about interactive tables.';\n",
              "          element.innerHTML = '';\n",
              "          dataTable['output_type'] = 'display_data';\n",
              "          await google.colab.output.renderOutput(dataTable, element);\n",
              "          const docLink = document.createElement('div');\n",
              "          docLink.innerHTML = docLinkHtml;\n",
              "          element.appendChild(docLink);\n",
              "        }\n",
              "      </script>\n",
              "    </div>\n",
              "  </div>\n",
              "  "
            ]
          },
          "metadata": {},
          "execution_count": 3
        }
      ]
    },
    {
      "cell_type": "markdown",
      "source": [
        "Dari sample data kategory 0 memberikan review yang buruk dari kata bocor, kotor, bau, tidak bersih, wifi tidak ada.\n",
        "sedangkan category 1 memberikan kesan yang positif yaitu dari kata rapi, bersih, suasana tenang, dll\n",
        "\n",
        "Kesimpulannya sentimen negatif biasa bersih kalimat (Bocor, Rusak, terdapat kata tidak, dll)\n",
        "sedangkan sentimen yang positif ( kata berisi bersih, tenang, rapi, dll)\n"
      ],
      "metadata": {
        "id": "YUteRagyGZoJ"
      }
    },
    {
      "cell_type": "markdown",
      "source": [
        "### 3. Explorasi dataset"
      ],
      "metadata": {
        "id": "ACV3NH5MF4lN"
      }
    },
    {
      "cell_type": "code",
      "source": [
        "sns.countplot(data=ds, x=\"category\")\n",
        "plt.suptitle(\"Jumlah label\")\n",
        "plt.show()"
      ],
      "metadata": {
        "colab": {
          "base_uri": "https://localhost:8080/",
          "height": 308
        },
        "id": "xRH2JvmHGTpj",
        "outputId": "f42efe04-1b97-4906-9bc5-daf5a89e699c"
      },
      "execution_count": 4,
      "outputs": [
        {
          "output_type": "display_data",
          "data": {
            "text/plain": [
              "<Figure size 432x288 with 1 Axes>"
            ],
            "image/png": "[encoded data removed]"
          },
          "metadata": {
            "needs_background": "light"
          }
        }
      ]
    },
    {
      "cell_type": "code",
      "source": [
        "!pip install Sastrawi"
      ],
      "metadata": {
        "colab": {
          "base_uri": "https://localhost:8080/"
        },
        "id": "GGKipuc7TIXg",
        "outputId": "d7c9a47a-951b-4c09-bc2b-c654f30cd927"
      },
      "execution_count": 5,
      "outputs": [
        {
          "output_type": "stream",
          "name": "stdout",
          "text": [
            "Collecting Sastrawi\n",
            "  Downloading Sastrawi-1.0.1-py2.py3-none-any.whl (209 kB)\n",
            "\u001b[?25l\r\u001b[K     |█▋                              | 10 kB 16.2 MB/s eta 0:00:01\r\u001b[K     |███▏                            | 20 kB 10.3 MB/s eta 0:00:01\r\u001b[K     |████▊                           | 30 kB 5.5 MB/s eta 0:00:01\r\u001b[K     |██████▎                         | 40 kB 5.0 MB/s eta 0:00:01\r\u001b[K     |███████▉                        | 51 kB 4.0 MB/s eta 0:00:01\r\u001b[K     |█████████▍                      | 61 kB 4.7 MB/s eta 0:00:01\r\u001b[K     |███████████                     | 71 kB 4.7 MB/s eta 0:00:01\r\u001b[K     |████████████▌                   | 81 kB 3.6 MB/s eta 0:00:01\r\u001b[K     |██████████████                  | 92 kB 4.0 MB/s eta 0:00:01\r\u001b[K     |███████████████▋                | 102 kB 4.4 MB/s eta 0:00:01\r\u001b[K     |█████████████████▏              | 112 kB 4.4 MB/s eta 0:00:01\r\u001b[K     |██████████████████▊             | 122 kB 4.4 MB/s eta 0:00:01\r\u001b[K     |████████████████████▎           | 133 kB 4.4 MB/s eta 0:00:01\r\u001b[K     |█████████████████████▉          | 143 kB 4.4 MB/s eta 0:00:01\r\u001b[K     |███████████████████████▍        | 153 kB 4.4 MB/s eta 0:00:01\r\u001b[K     |█████████████████████████       | 163 kB 4.4 MB/s eta 0:00:01\r\u001b[K     |██████████████████████████▋     | 174 kB 4.4 MB/s eta 0:00:01\r\u001b[K     |████████████████████████████▏   | 184 kB 4.4 MB/s eta 0:00:01\r\u001b[K     |█████████████████████████████▊  | 194 kB 4.4 MB/s eta 0:00:01\r\u001b[K     |███████████████████████████████▎| 204 kB 4.4 MB/s eta 0:00:01\r\u001b[K     |████████████████████████████████| 209 kB 4.4 MB/s \n",
            "\u001b[?25hInstalling collected packages: Sastrawi\n",
            "Successfully installed Sastrawi-1.0.1\n"
          ]
        }
      ]
    },
    {
      "cell_type": "markdown",
      "source": [
        "data menunjukkan banyak review negatif"
      ],
      "metadata": {
        "id": "KY_w7dVyG_5A"
      }
    },
    {
      "cell_type": "markdown",
      "source": [
        "### 4. Praprocessing text\n"
      ],
      "metadata": {
        "id": "Ny0qZGykGLuC"
      }
    },
    {
      "cell_type": "code",
      "source": [
        "from Sastrawi.Stemmer.StemmerFactory import StemmerFactory\n",
        "factory = StemmerFactory()\n",
        "stemmer = factory.create_stemmer()"
      ],
      "metadata": {
        "id": "qAa0JAd5ckTT"
      },
      "execution_count": 6,
      "outputs": []
    },
    {
      "cell_type": "code",
      "source": [
        "punctuations = re.sub(r\"[!<_>#:)\\.]\", \"\", string.punctuation)\n",
        "def text_praprocessing(text):\n",
        "    text = text.lower() ## membuat huruf menjadil huruf kecil semua\n",
        "    table = text.maketrans(\"\", \"\", string.punctuation)\n",
        "    text = text.translate(table) ## menghilangkan tanda baca\n",
        "    re.sub(r\"[{}]+\".format(punctuations), \" \", text) ## menghilangkan simbol simbol\n",
        "    stemmer.stem(text)\n",
        "    return text"
      ],
      "metadata": {
        "id": "EB9ayAn7JsAs"
      },
      "execution_count": 7,
      "outputs": []
    },
    {
      "cell_type": "markdown",
      "source": [
        "Proses stemming tidak dilakukan karena memberikan beban komputasi yang cukup berat dengan jumlah dataset yang mencapai 15000 baris"
      ],
      "metadata": {
        "id": "SsnN-jAmO29X"
      }
    },
    {
      "cell_type": "code",
      "source": [
        "ds[\"afterpreprocess_review\"] = ds[\"review_text\"].map(text_praprocessing)\n",
        "ds.head(5)"
      ],
      "metadata": {
        "colab": {
          "base_uri": "https://localhost:8080/",
          "height": 206
        },
        "id": "0whly62bJdxM",
        "outputId": "57a3a996-002b-4ccd-d6a2-12510ef699be"
      },
      "execution_count": 8,
      "outputs": [
        {
          "output_type": "execute_result",
          "data": {
            "text/plain": [
              "                          review_id  \\\n",
              "0  0fc651bfdd38a3b4ba19ef9d0d1e92e3   \n",
              "1  7d8cb2e465c5602e51c1ba8710e8ff16   \n",
              "2  1f4447c73e5e1aac462d05b0ecbd5a55   \n",
              "3  b9aefbfb0debbfff43f8b268c82b43c0   \n",
              "4  e2afef18bd695fae43d4d53b8c547bd4   \n",
              "\n",
              "                                         review_text  category  \\\n",
              "0  Penginapannya rapi, bersih, suasana tenang, pe...         1   \n",
              "1  wifi tidak sampai kamar, tidak tersedia heater...         0   \n",
              "2  Lantai kamar mandi kotor, bau, dan seperti sdh...         0   \n",
              "3  Wc jorok.. Kasur tidak dibersihkan,, handuk ti...         0   \n",
              "4                                         bocor lagi         0   \n",
              "\n",
              "                              afterpreprocess_review  \n",
              "0  penginapannya rapi bersih suasana tenang pelay...  \n",
              "1  wifi tidak sampai kamar tidak tersedia heater ...  \n",
              "2  lantai kamar mandi kotor bau dan seperti sdh j...  \n",
              "3  wc jorok kasur tidak dibersihkan handuk tidak ...  \n",
              "4                                         bocor lagi  "
            ],
            "text/html": [
              "\n",
              "  <div id=\"df-9d46f11a-ef9d-4dc3-976e-9e930dc42ea5\">\n",
              "    <div class=\"colab-df-container\">\n",
              "      <div>\n",
              "<style scoped>\n",
              "    .dataframe tbody tr th:only-of-type {\n",
              "        vertical-align: middle;\n",
              "    }\n",
              "\n",
              "    .dataframe tbody tr th {\n",
              "        vertical-align: top;\n",
              "    }\n",
              "\n",
              "    .dataframe thead th {\n",
              "        text-align: right;\n",
              "    }\n",
              "</style>\n",
              "<table border=\"1\" class=\"dataframe\">\n",
              "  <thead>\n",
              "    <tr style=\"text-align: right;\">\n",
              "      <th></th>\n",
              "      <th>review_id</th>\n",
              "      <th>review_text</th>\n",
              "      <th>category</th>\n",
              "      <th>afterpreprocess_review</th>\n",
              "    </tr>\n",
              "  </thead>\n",
              "  <tbody>\n",
              "    <tr>\n",
              "      <th>0</th>\n",
              "      <td>0fc651bfdd38a3b4ba19ef9d0d1e92e3</td>\n",
              "      <td>Penginapannya rapi, bersih, suasana tenang, pe...</td>\n",
              "      <td>1</td>\n",
              "      <td>penginapannya rapi bersih suasana tenang pelay...</td>\n",
              "    </tr>\n",
              "    <tr>\n",
              "      <th>1</th>\n",
              "      <td>7d8cb2e465c5602e51c1ba8710e8ff16</td>\n",
              "      <td>wifi tidak sampai kamar, tidak tersedia heater...</td>\n",
              "      <td>0</td>\n",
              "      <td>wifi tidak sampai kamar tidak tersedia heater ...</td>\n",
              "    </tr>\n",
              "    <tr>\n",
              "      <th>2</th>\n",
              "      <td>1f4447c73e5e1aac462d05b0ecbd5a55</td>\n",
              "      <td>Lantai kamar mandi kotor, bau, dan seperti sdh...</td>\n",
              "      <td>0</td>\n",
              "      <td>lantai kamar mandi kotor bau dan seperti sdh j...</td>\n",
              "    </tr>\n",
              "    <tr>\n",
              "      <th>3</th>\n",
              "      <td>b9aefbfb0debbfff43f8b268c82b43c0</td>\n",
              "      <td>Wc jorok.. Kasur tidak dibersihkan,, handuk ti...</td>\n",
              "      <td>0</td>\n",
              "      <td>wc jorok kasur tidak dibersihkan handuk tidak ...</td>\n",
              "    </tr>\n",
              "    <tr>\n",
              "      <th>4</th>\n",
              "      <td>e2afef18bd695fae43d4d53b8c547bd4</td>\n",
              "      <td>bocor lagi</td>\n",
              "      <td>0</td>\n",
              "      <td>bocor lagi</td>\n",
              "    </tr>\n",
              "  </tbody>\n",
              "</table>\n",
              "</div>\n",
              "      <button class=\"colab-df-convert\" onclick=\"convertToInteractive('df-9d46f11a-ef9d-4dc3-976e-9e930dc42ea5')\"\n",
              "              title=\"Convert this dataframe to an interactive table.\"\n",
              "              style=\"display:none;\">\n",
              "        \n",
              "  <svg xmlns=\"http://www.w3.org/2000/svg\" height=\"24px\"viewBox=\"0 0 24 24\"\n",
              "       width=\"24px\">\n",
              "    <path d=\"M0 0h24v24H0V0z\" fill=\"none\"/>\n",
              "    <path d=\"M18.56 5.44l.94 2.06.94-2.06 2.06-.94-2.06-.94-.94-2.06-.94 2.06-2.06.94zm-11 1L8.5 8.5l.94-2.06 2.06-.94-2.06-.94L8.5 2.5l-.94 2.06-2.06.94zm10 10l.94 2.06.94-2.06 2.06-.94-2.06-.94-.94-2.06-.94 2.06-2.06.94z\"/><path d=\"M17.41 7.96l-1.37-1.37c-.4-.4-.92-.59-1.43-.59-.52 0-1.04.2-1.43.59L10.3 9.45l-7.72 7.72c-.78.78-.78 2.05 0 2.83L4 21.41c.39.39.9.59 1.41.59.51 0 1.02-.2 1.41-.59l7.78-7.78 2.81-2.81c.8-.78.8-2.07 0-2.86zM5.41 20L4 18.59l7.72-7.72 1.47 1.35L5.41 20z\"/>\n",
              "  </svg>\n",
              "      </button>\n",
              "      \n",
              "  <style>\n",
              "    .colab-df-container {\n",
              "      display:flex;\n",
              "      flex-wrap:wrap;\n",
              "      gap: 12px;\n",
              "    }\n",
              "\n",
              "    .colab-df-convert {\n",
              "      background-color: #E8F0FE;\n",
              "      border: none;\n",
              "      border-radius: 50%;\n",
              "      cursor: pointer;\n",
              "      display: none;\n",
              "      fill: #1967D2;\n",
              "      height: 32px;\n",
              "      padding: 0 0 0 0;\n",
              "      width: 32px;\n",
              "    }\n",
              "\n",
              "    .colab-df-convert:hover {\n",
              "      background-color: #E2EBFA;\n",
              "      box-shadow: 0px 1px 2px rgba(60, 64, 67, 0.3), 0px 1px 3px 1px rgba(60, 64, 67, 0.15);\n",
              "      fill: #174EA6;\n",
              "    }\n",
              "\n",
              "    [theme=dark] .colab-df-convert {\n",
              "      background-color: #3B4455;\n",
              "      fill: #D2E3FC;\n",
              "    }\n",
              "\n",
              "    [theme=dark] .colab-df-convert:hover {\n",
              "      background-color: #434B5C;\n",
              "      box-shadow: 0px 1px 3px 1px rgba(0, 0, 0, 0.15);\n",
              "      filter: drop-shadow(0px 1px 2px rgba(0, 0, 0, 0.3));\n",
              "      fill: #FFFFFF;\n",
              "    }\n",
              "  </style>\n",
              "\n",
              "      <script>\n",
              "        const buttonEl =\n",
              "          document.querySelector('#df-9d46f11a-ef9d-4dc3-976e-9e930dc42ea5 button.colab-df-convert');\n",
              "        buttonEl.style.display =\n",
              "          google.colab.kernel.accessAllowed ? 'block' : 'none';\n",
              "\n",
              "        async function convertToInteractive(key) {\n",
              "          const element = document.querySelector('#df-9d46f11a-ef9d-4dc3-976e-9e930dc42ea5');\n",
              "          const dataTable =\n",
              "            await google.colab.kernel.invokeFunction('convertToInteractive',\n",
              "                                                     [key], {});\n",
              "          if (!dataTable) return;\n",
              "\n",
              "          const docLinkHtml = 'Like what you see? Visit the ' +\n",
              "            '<a target=\"_blank\" href=https://colab.research.google.com/notebooks/data_table.ipynb>data table notebook</a>'\n",
              "            + ' to learn more about interactive tables.';\n",
              "          element.innerHTML = '';\n",
              "          dataTable['output_type'] = 'display_data';\n",
              "          await google.colab.output.renderOutput(dataTable, element);\n",
              "          const docLink = document.createElement('div');\n",
              "          docLink.innerHTML = docLinkHtml;\n",
              "          element.appendChild(docLink);\n",
              "        }\n",
              "      </script>\n",
              "    </div>\n",
              "  </div>\n",
              "  "
            ]
          },
          "metadata": {},
          "execution_count": 8
        }
      ]
    },
    {
      "cell_type": "code",
      "source": [
        "ds.sample(5)"
      ],
      "metadata": {
        "colab": {
          "base_uri": "https://localhost:8080/",
          "height": 206
        },
        "id": "OADUMX1OR5Hy",
        "outputId": "08299351-42dd-4a76-99c8-85d6f5300094"
      },
      "execution_count": 9,
      "outputs": [
        {
          "output_type": "execute_result",
          "data": {
            "text/plain": [
              "                             review_id  \\\n",
              "2331  b599ce7da8336dbc95ffe56fb5f69b7b   \n",
              "7606  128eca668661d53d22cc1307275f3093   \n",
              "8089  f8955e010106cedf2d22abf20f4ce580   \n",
              "2040  66510a573500dbe9785033e369239291   \n",
              "8544  b2b8cd7fc4560f3708ac37478a9388b1   \n",
              "\n",
              "                                            review_text  category  \\\n",
              "2331  hotel nyaman, bersih, dekat dengan mall. pelay...         1   \n",
              "7606  gak jd nginap disini krn nunggu hampir 2jam tp...         0   \n",
              "8089  handuk musti minta dulu, gak ada selimut, kama...         0   \n",
              "2040                             Kamarnya kurang bersih         0   \n",
              "8544             Versi dan nyaman dan pelayanannya baik         1   \n",
              "\n",
              "                                 afterpreprocess_review  \n",
              "2331  hotel nyaman bersih dekat dengan mall pelayana...  \n",
              "7606  gak jd nginap disini krn nunggu hampir 2jam tp...  \n",
              "8089  handuk musti minta dulu gak ada selimut kamar ...  \n",
              "2040                             kamarnya kurang bersih  \n",
              "8544             versi dan nyaman dan pelayanannya baik  "
            ],
            "text/html": [
              "\n",
              "  <div id=\"df-e6df89ea-046a-47a2-be79-f070146b0a70\">\n",
              "    <div class=\"colab-df-container\">\n",
              "      <div>\n",
              "<style scoped>\n",
              "    .dataframe tbody tr th:only-of-type {\n",
              "        vertical-align: middle;\n",
              "    }\n",
              "\n",
              "    .dataframe tbody tr th {\n",
              "        vertical-align: top;\n",
              "    }\n",
              "\n",
              "    .dataframe thead th {\n",
              "        text-align: right;\n",
              "    }\n",
              "</style>\n",
              "<table border=\"1\" class=\"dataframe\">\n",
              "  <thead>\n",
              "    <tr style=\"text-align: right;\">\n",
              "      <th></th>\n",
              "      <th>review_id</th>\n",
              "      <th>review_text</th>\n",
              "      <th>category</th>\n",
              "      <th>afterpreprocess_review</th>\n",
              "    </tr>\n",
              "  </thead>\n",
              "  <tbody>\n",
              "    <tr>\n",
              "      <th>2331</th>\n",
              "      <td>b599ce7da8336dbc95ffe56fb5f69b7b</td>\n",
              "      <td>hotel nyaman, bersih, dekat dengan mall. pelay...</td>\n",
              "      <td>1</td>\n",
              "      <td>hotel nyaman bersih dekat dengan mall pelayana...</td>\n",
              "    </tr>\n",
              "    <tr>\n",
              "      <th>7606</th>\n",
              "      <td>128eca668661d53d22cc1307275f3093</td>\n",
              "      <td>gak jd nginap disini krn nunggu hampir 2jam tp...</td>\n",
              "      <td>0</td>\n",
              "      <td>gak jd nginap disini krn nunggu hampir 2jam tp...</td>\n",
              "    </tr>\n",
              "    <tr>\n",
              "      <th>8089</th>\n",
              "      <td>f8955e010106cedf2d22abf20f4ce580</td>\n",
              "      <td>handuk musti minta dulu, gak ada selimut, kama...</td>\n",
              "      <td>0</td>\n",
              "      <td>handuk musti minta dulu gak ada selimut kamar ...</td>\n",
              "    </tr>\n",
              "    <tr>\n",
              "      <th>2040</th>\n",
              "      <td>66510a573500dbe9785033e369239291</td>\n",
              "      <td>Kamarnya kurang bersih</td>\n",
              "      <td>0</td>\n",
              "      <td>kamarnya kurang bersih</td>\n",
              "    </tr>\n",
              "    <tr>\n",
              "      <th>8544</th>\n",
              "      <td>b2b8cd7fc4560f3708ac37478a9388b1</td>\n",
              "      <td>Versi dan nyaman dan pelayanannya baik</td>\n",
              "      <td>1</td>\n",
              "      <td>versi dan nyaman dan pelayanannya baik</td>\n",
              "    </tr>\n",
              "  </tbody>\n",
              "</table>\n",
              "</div>\n",
              "      <button class=\"colab-df-convert\" onclick=\"convertToInteractive('df-e6df89ea-046a-47a2-be79-f070146b0a70')\"\n",
              "              title=\"Convert this dataframe to an interactive table.\"\n",
              "              style=\"display:none;\">\n",
              "        \n",
              "  <svg xmlns=\"http://www.w3.org/2000/svg\" height=\"24px\"viewBox=\"0 0 24 24\"\n",
              "       width=\"24px\">\n",
              "    <path d=\"M0 0h24v24H0V0z\" fill=\"none\"/>\n",
              "    <path d=\"M18.56 5.44l.94 2.06.94-2.06 2.06-.94-2.06-.94-.94-2.06-.94 2.06-2.06.94zm-11 1L8.5 8.5l.94-2.06 2.06-.94-2.06-.94L8.5 2.5l-.94 2.06-2.06.94zm10 10l.94 2.06.94-2.06 2.06-.94-2.06-.94-.94-2.06-.94 2.06-2.06.94z\"/><path d=\"M17.41 7.96l-1.37-1.37c-.4-.4-.92-.59-1.43-.59-.52 0-1.04.2-1.43.59L10.3 9.45l-7.72 7.72c-.78.78-.78 2.05 0 2.83L4 21.41c.39.39.9.59 1.41.59.51 0 1.02-.2 1.41-.59l7.78-7.78 2.81-2.81c.8-.78.8-2.07 0-2.86zM5.41 20L4 18.59l7.72-7.72 1.47 1.35L5.41 20z\"/>\n",
              "  </svg>\n",
              "      </button>\n",
              "      \n",
              "  <style>\n",
              "    .colab-df-container {\n",
              "      display:flex;\n",
              "      flex-wrap:wrap;\n",
              "      gap: 12px;\n",
              "    }\n",
              "\n",
              "    .colab-df-convert {\n",
              "      background-color: #E8F0FE;\n",
              "      border: none;\n",
              "      border-radius: 50%;\n",
              "      cursor: pointer;\n",
              "      display: none;\n",
              "      fill: #1967D2;\n",
              "      height: 32px;\n",
              "      padding: 0 0 0 0;\n",
              "      width: 32px;\n",
              "    }\n",
              "\n",
              "    .colab-df-convert:hover {\n",
              "      background-color: #E2EBFA;\n",
              "      box-shadow: 0px 1px 2px rgba(60, 64, 67, 0.3), 0px 1px 3px 1px rgba(60, 64, 67, 0.15);\n",
              "      fill: #174EA6;\n",
              "    }\n",
              "\n",
              "    [theme=dark] .colab-df-convert {\n",
              "      background-color: #3B4455;\n",
              "      fill: #D2E3FC;\n",
              "    }\n",
              "\n",
              "    [theme=dark] .colab-df-convert:hover {\n",
              "      background-color: #434B5C;\n",
              "      box-shadow: 0px 1px 3px 1px rgba(0, 0, 0, 0.15);\n",
              "      filter: drop-shadow(0px 1px 2px rgba(0, 0, 0, 0.3));\n",
              "      fill: #FFFFFF;\n",
              "    }\n",
              "  </style>\n",
              "\n",
              "      <script>\n",
              "        const buttonEl =\n",
              "          document.querySelector('#df-e6df89ea-046a-47a2-be79-f070146b0a70 button.colab-df-convert');\n",
              "        buttonEl.style.display =\n",
              "          google.colab.kernel.accessAllowed ? 'block' : 'none';\n",
              "\n",
              "        async function convertToInteractive(key) {\n",
              "          const element = document.querySelector('#df-e6df89ea-046a-47a2-be79-f070146b0a70');\n",
              "          const dataTable =\n",
              "            await google.colab.kernel.invokeFunction('convertToInteractive',\n",
              "                                                     [key], {});\n",
              "          if (!dataTable) return;\n",
              "\n",
              "          const docLinkHtml = 'Like what you see? Visit the ' +\n",
              "            '<a target=\"_blank\" href=https://colab.research.google.com/notebooks/data_table.ipynb>data table notebook</a>'\n",
              "            + ' to learn more about interactive tables.';\n",
              "          element.innerHTML = '';\n",
              "          dataTable['output_type'] = 'display_data';\n",
              "          await google.colab.output.renderOutput(dataTable, element);\n",
              "          const docLink = document.createElement('div');\n",
              "          docLink.innerHTML = docLinkHtml;\n",
              "          element.appendChild(docLink);\n",
              "        }\n",
              "      </script>\n",
              "    </div>\n",
              "  </div>\n",
              "  "
            ]
          },
          "metadata": {},
          "execution_count": 9
        }
      ]
    },
    {
      "cell_type": "markdown",
      "source": [
        "Stemmer text\n"
      ],
      "metadata": {
        "id": "dYaMK0_Zbrr3"
      }
    },
    {
      "cell_type": "code",
      "source": [
        "!pip install Sastrawi"
      ],
      "metadata": {
        "colab": {
          "base_uri": "https://localhost:8080/"
        },
        "id": "j0EJfpR5b-kZ",
        "outputId": "aad6bcfc-8fe3-45dd-a26f-6ef9995fc020"
      },
      "execution_count": 8,
      "outputs": [
        {
          "output_type": "stream",
          "name": "stdout",
          "text": [
            "Requirement already satisfied: Sastrawi in /usr/local/lib/python3.7/dist-packages (1.0.1)\n"
          ]
        }
      ]
    },
    {
      "cell_type": "markdown",
      "source": [
        "### 5. Feature extracton"
      ],
      "metadata": {
        "id": "Jv9JeZw952PG"
      }
    },
    {
      "cell_type": "code",
      "source": [
        "clean_review = ds[\"afterpreprocess_review\"].values\n",
        "label = ds[\"category\"]"
      ],
      "metadata": {
        "id": "KW6Th4Ez8bLB"
      },
      "execution_count": 10,
      "outputs": []
    },
    {
      "cell_type": "markdown",
      "source": [
        "### 6. Vectorizing word dan model building"
      ],
      "metadata": {
        "id": "dgKkHbLOJrff"
      }
    },
    {
      "cell_type": "code",
      "source": [
        "from sklearn.feature_extraction.text import CountVectorizer, TfidfVectorizer\n",
        "\n",
        "vectorizer1 = CountVectorizer() #countvector\n",
        "review_vect = vectorizer1.fit_transform(clean_review)\n",
        "review_vect\n",
        "\n",
        "vectorizer2 = TfidfVectorizer() #tf_idvectorizer\n",
        "review_vect1 = vectorizer2.fit_transform(clean_review)\n",
        "review_vect1"
      ],
      "metadata": {
        "colab": {
          "base_uri": "https://localhost:8080/"
        },
        "id": "8oNxKZCPJppC",
        "outputId": "8af8c445-eb58-48d8-9131-804551a03ba4"
      },
      "execution_count": 11,
      "outputs": [
        {
          "output_type": "execute_result",
          "data": {
            "text/plain": [
              "<14856x16898 sparse matrix of type '<class 'numpy.float64'>'\n",
              "\twith 214617 stored elements in Compressed Sparse Row format>"
            ]
          },
          "metadata": {},
          "execution_count": 11
        }
      ]
    },
    {
      "cell_type": "markdown",
      "source": [
        "Tidak menghilangkan stopwords, karena akan menimbulkan bias untuk kata seperti tidak, bukan, dll yang cenderung memiliki sentimen negatif"
      ],
      "metadata": {
        "id": "gAHeWBIUV9-w"
      }
    },
    {
      "cell_type": "code",
      "source": [
        "from sklearn.linear_model import LogisticRegression\n",
        "logres = LogisticRegression()"
      ],
      "metadata": {
        "id": "Ry4b8_dgKayU"
      },
      "execution_count": 12,
      "outputs": []
    },
    {
      "cell_type": "code",
      "source": [
        "from sklearn.naive_bayes import MultinomialNB\n",
        "MultiNB = MultinomialNB()"
      ],
      "metadata": {
        "id": "Bitl4UgRQA7O"
      },
      "execution_count": 13,
      "outputs": []
    },
    {
      "cell_type": "markdown",
      "source": [
        "### 7. split data"
      ],
      "metadata": {
        "id": "THFr5S4XKnVC"
      }
    },
    {
      "cell_type": "code",
      "source": [
        "from sklearn.model_selection import train_test_split\n",
        "train_X, test_X, train_y, test_y = train_test_split(clean_review, label, test_size=0.2, random_state=89, stratify = label)"
      ],
      "metadata": {
        "id": "jK6RJItsKrvs"
      },
      "execution_count": 14,
      "outputs": []
    },
    {
      "cell_type": "markdown",
      "source": [
        "### 8. menggabungkan vectorizing dan modelling"
      ],
      "metadata": {
        "id": "-Ob3KLlbMCiV"
      }
    },
    {
      "cell_type": "code",
      "source": [
        "from sklearn.pipeline import Pipeline\n"
      ],
      "metadata": {
        "id": "g3ta52kSMJdR"
      },
      "execution_count": 15,
      "outputs": []
    },
    {
      "cell_type": "code",
      "source": [
        " modelling_pipe1 = Pipeline(\n",
        "    [\n",
        "     (\"vectorizer\", vectorizer1),\n",
        "     (\"classifier\", logres)\n",
        "    ]\n",
        ")"
      ],
      "metadata": {
        "id": "1leNV2c2Mlom"
      },
      "execution_count": 16,
      "outputs": []
    },
    {
      "cell_type": "code",
      "source": [
        "  modelling_pipe2 = Pipeline(\n",
        "    [\n",
        "     (\"vectorizer\", vectorizer1),\n",
        "     (\"classifier\", MultiNB)\n",
        "    ]\n",
        ")"
      ],
      "metadata": {
        "id": "p3YohwsxRZPF"
      },
      "execution_count": 17,
      "outputs": []
    },
    {
      "cell_type": "code",
      "source": [
        "   modelling_pipe3 = Pipeline(\n",
        "    [\n",
        "     (\"vectorizer\", vectorizer2),\n",
        "     (\"classifier\", logres)\n",
        "    ]\n",
        ")"
      ],
      "metadata": {
        "id": "GNCEANTpRd7T"
      },
      "execution_count": 18,
      "outputs": []
    },
    {
      "cell_type": "code",
      "source": [
        "    modelling_pipe4 = Pipeline(\n",
        "    [\n",
        "     (\"vectorizer\", vectorizer2),\n",
        "     (\"classifier\", MultiNB)\n",
        "    ]\n",
        ")"
      ],
      "metadata": {
        "id": "14ec93GLReBp"
      },
      "execution_count": 19,
      "outputs": []
    },
    {
      "cell_type": "code",
      "source": [
        "modelling_pipe1.fit(train_X, train_y)\n",
        "modelling_pipe1.score(test_X, test_y)"
      ],
      "metadata": {
        "colab": {
          "base_uri": "https://localhost:8080/"
        },
        "id": "y4dX7WcMMrRp",
        "outputId": "92eddb71-5010-417d-a25e-5cd45c03d9f2"
      },
      "execution_count": 20,
      "outputs": [
        {
          "output_type": "execute_result",
          "data": {
            "text/plain": [
              "0.9377523553162853"
            ]
          },
          "metadata": {},
          "execution_count": 20
        }
      ]
    },
    {
      "cell_type": "code",
      "source": [
        "modelling_pipe2.fit(train_X, train_y)\n",
        "modelling_pipe2.score(test_X, test_y)"
      ],
      "metadata": {
        "colab": {
          "base_uri": "https://localhost:8080/"
        },
        "id": "MX18x4AiRj24",
        "outputId": "c8c250d7-b976-4b1e-bf48-4bd90f08923e"
      },
      "execution_count": 21,
      "outputs": [
        {
          "output_type": "execute_result",
          "data": {
            "text/plain": [
              "0.9212651413189771"
            ]
          },
          "metadata": {},
          "execution_count": 21
        }
      ]
    },
    {
      "cell_type": "code",
      "source": [
        "modelling_pipe3.fit(train_X, train_y)\n",
        "modelling_pipe3.score(test_X, test_y)"
      ],
      "metadata": {
        "colab": {
          "base_uri": "https://localhost:8080/"
        },
        "id": "Kk-0JeEPRm_Y",
        "outputId": "4c001b94-378c-4ac1-c715-cdb2314528fa"
      },
      "execution_count": 22,
      "outputs": [
        {
          "output_type": "execute_result",
          "data": {
            "text/plain": [
              "0.9327052489905787"
            ]
          },
          "metadata": {},
          "execution_count": 22
        }
      ]
    },
    {
      "cell_type": "code",
      "source": [
        "modelling_pipe4.fit(train_X, train_y)\n",
        "modelling_pipe4.score(test_X, test_y)"
      ],
      "metadata": {
        "colab": {
          "base_uri": "https://localhost:8080/"
        },
        "id": "CHJHJMX9RqVO",
        "outputId": "0e8dff53-2534-473e-9d67-58d0aa062323"
      },
      "execution_count": 23,
      "outputs": [
        {
          "output_type": "execute_result",
          "data": {
            "text/plain": [
              "0.8771870794078062"
            ]
          },
          "metadata": {},
          "execution_count": 23
        }
      ]
    },
    {
      "cell_type": "markdown",
      "source": [
        "### 9. Evaluasi Model"
      ],
      "metadata": {
        "id": "11aHJrtUUj4s"
      }
    },
    {
      "cell_type": "code",
      "source": [
        "from sklearn.metrics import classification_report\n",
        "modelling_pipe1_report = classification_report(y_true=test_y, y_pred=modelling_pipe1.predict(test_X))\n",
        "print(modelling_pipe1_report)"
      ],
      "metadata": {
        "colab": {
          "base_uri": "https://localhost:8080/"
        },
        "id": "Qk6luy5XUonv",
        "outputId": "874cf477-ad51-4250-989d-8dcabba6b755"
      },
      "execution_count": 24,
      "outputs": [
        {
          "output_type": "stream",
          "name": "stdout",
          "text": [
            "              precision    recall  f1-score   support\n",
            "\n",
            "           0       0.96      0.95      0.95      2568\n",
            "           1       0.70      0.76      0.73       404\n",
            "\n",
            "    accuracy                           0.92      2972\n",
            "   macro avg       0.83      0.85      0.84      2972\n",
            "weighted avg       0.93      0.92      0.92      2972\n",
            "\n"
          ]
        }
      ]
    },
    {
      "cell_type": "code",
      "source": [
        "modelling_pipe2_report = classification_report(y_true=test_y, y_pred=modelling_pipe2.predict(test_X))\n",
        "print(modelling_pipe2_report)"
      ],
      "metadata": {
        "colab": {
          "base_uri": "https://localhost:8080/"
        },
        "id": "n8IDJy68WTGQ",
        "outputId": "ceb3cf54-1aa6-4984-9db6-5e15aa961a5b"
      },
      "execution_count": 25,
      "outputs": [
        {
          "output_type": "stream",
          "name": "stdout",
          "text": [
            "              precision    recall  f1-score   support\n",
            "\n",
            "           0       0.90      0.99      0.94      2568\n",
            "           1       0.86      0.26      0.40       404\n",
            "\n",
            "    accuracy                           0.89      2972\n",
            "   macro avg       0.88      0.63      0.67      2972\n",
            "weighted avg       0.89      0.89      0.87      2972\n",
            "\n"
          ]
        }
      ]
    },
    {
      "cell_type": "code",
      "source": [
        "modelling_pipe3_report = classification_report(y_true=test_y, y_pred=modelling_pipe3.predict(test_X))\n",
        "print(modelling_pipe3_report)"
      ],
      "metadata": {
        "colab": {
          "base_uri": "https://localhost:8080/"
        },
        "id": "KGPYlJ7mWTPZ",
        "outputId": "d96cc6bc-6078-4bf3-82f3-312805bcc112"
      },
      "execution_count": 26,
      "outputs": [
        {
          "output_type": "stream",
          "name": "stdout",
          "text": [
            "              precision    recall  f1-score   support\n",
            "\n",
            "           0       0.93      0.99      0.96      2568\n",
            "           1       0.91      0.56      0.69       404\n",
            "\n",
            "    accuracy                           0.93      2972\n",
            "   macro avg       0.92      0.78      0.83      2972\n",
            "weighted avg       0.93      0.93      0.93      2972\n",
            "\n"
          ]
        }
      ]
    },
    {
      "cell_type": "code",
      "source": [
        "modelling_pipe4_report = classification_report(y_true=test_y, y_pred=modelling_pipe4.predict(test_X))\n",
        "print(modelling_pipe4_report)"
      ],
      "metadata": {
        "colab": {
          "base_uri": "https://localhost:8080/"
        },
        "id": "XlAaLbcvWUGg",
        "outputId": "937d1217-d9f1-4cc9-9837-d077b56c135a"
      },
      "execution_count": 27,
      "outputs": [
        {
          "output_type": "stream",
          "name": "stdout",
          "text": [
            "              precision    recall  f1-score   support\n",
            "\n",
            "           0       0.88      1.00      0.93      2568\n",
            "           1       0.84      0.12      0.21       404\n",
            "\n",
            "    accuracy                           0.88      2972\n",
            "   macro avg       0.86      0.56      0.57      2972\n",
            "weighted avg       0.87      0.88      0.83      2972\n",
            "\n"
          ]
        }
      ]
    },
    {
      "cell_type": "markdown",
      "source": [
        "recal dan precisi masih tidak bagus untuk memprediksi kategory 1, menggunakan model log res dan countvectorizer sudah cukup bagus. perlu dicoba untuk menambah data mengenai review sentimen positif"
      ],
      "metadata": {
        "id": "X132VRA6VIvc"
      }
    },
    {
      "cell_type": "code",
      "source": [
        "contoh_review = [\"hotel bersih, tempat tidur keras, rapi\"]\n",
        "\n",
        "modelling_pipe1.predict(contoh_review)"
      ],
      "metadata": {
        "colab": {
          "base_uri": "https://localhost:8080/"
        },
        "id": "nBfirE5-VUsp",
        "outputId": "28b1bf3e-2ce6-451a-8e1a-683c0e4e1aed"
      },
      "execution_count": 28,
      "outputs": [
        {
          "output_type": "execute_result",
          "data": {
            "text/plain": [
              "array([1])"
            ]
          },
          "metadata": {},
          "execution_count": 28
        }
      ]
    },
    {
      "cell_type": "code",
      "source": [
        "modelling_pipe2.predict(contoh_review)"
      ],
      "metadata": {
        "colab": {
          "base_uri": "https://localhost:8080/"
        },
        "id": "q7pM6XfoW17j",
        "outputId": "edd043f8-4d25-4d0b-bd20-3b0c288dabd1"
      },
      "execution_count": 32,
      "outputs": [
        {
          "output_type": "execute_result",
          "data": {
            "text/plain": [
              "array([0])"
            ]
          },
          "metadata": {},
          "execution_count": 32
        }
      ]
    },
    {
      "cell_type": "code",
      "source": [
        "modelling_pipe3.predict(contoh_review)"
      ],
      "metadata": {
        "colab": {
          "base_uri": "https://localhost:8080/"
        },
        "id": "py5cB_EUW4c6",
        "outputId": "2e5cd697-1076-43ec-e8f4-38adcdfa2cee"
      },
      "execution_count": 29,
      "outputs": [
        {
          "output_type": "execute_result",
          "data": {
            "text/plain": [
              "array([1])"
            ]
          },
          "metadata": {},
          "execution_count": 29
        }
      ]
    },
    {
      "cell_type": "markdown",
      "source": [
        "Hyperparameter countvectorizer dan logistic regression"
      ],
      "metadata": {
        "id": "MVsSIQ-dprwD"
      }
    },
    {
      "cell_type": "code",
      "source": [
        "from sklearn.model_selection import RandomizedSearchCV\n",
        "from scipy.stats import uniform\n",
        "logres1 = LogisticRegression(solver = 'saga',random_state = 50, tol=1e-4, max_iter=200)\n",
        "distributions = dict(C=uniform(loc=0, scale=4), penalty=['l2', 'l1'])"
      ],
      "metadata": {
        "id": "PTqeGKViFeex"
      },
      "execution_count": 30,
      "outputs": []
    },
    {
      "cell_type": "code",
      "source": [
        "train1_X, test1_X, train1_y, test1_y = train_test_split(clean_review, label, test_size=0.2, random_state=89, stratify = label)"
      ],
      "metadata": {
        "id": "6t61nGEvECtl"
      },
      "execution_count": 68,
      "outputs": []
    },
    {
      "cell_type": "code",
      "source": [
        "rf_tuned = RandomizedSearchCV(logres1,  distributions, cv=6, random_state=42, scoring='recall')"
      ],
      "metadata": {
        "id": "tLE3skDEDEHM"
      },
      "execution_count": 70,
      "outputs": []
    },
    {
      "cell_type": "code",
      "source": [
        "  modelling_pipe5 = Pipeline(\n",
        "    [\n",
        "     (\"vectorizer\", vectorizer1),\n",
        "     (\"classifier\", rf_tuned)\n",
        "    ]\n",
        ")"
      ],
      "metadata": {
        "id": "oZy56xOaz5um"
      },
      "execution_count": 73,
      "outputs": []
    },
    {
      "cell_type": "code",
      "source": [
        "search = modelling_pipe5.fit(train1_X, train1_y)\n",
        "rf_tuned.best_params_"
      ],
      "metadata": {
        "colab": {
          "base_uri": "https://localhost:8080/"
        },
        "id": "4dMNAh3kE9xf",
        "outputId": "975fa029-bdba-4788-fb6e-39cfc91be7e5"
      },
      "execution_count": 75,
      "outputs": [
        {
          "output_type": "stream",
          "name": "stderr",
          "text": [
            "/usr/local/lib/python3.7/dist-packages/sklearn/linear_model/_sag.py:354: ConvergenceWarning: The max_iter was reached which means the coef_ did not converge\n",
            "  ConvergenceWarning,\n",
            "/usr/local/lib/python3.7/dist-packages/sklearn/linear_model/_sag.py:354: ConvergenceWarning: The max_iter was reached which means the coef_ did not converge\n",
            "  ConvergenceWarning,\n",
            "/usr/local/lib/python3.7/dist-packages/sklearn/linear_model/_sag.py:354: ConvergenceWarning: The max_iter was reached which means the coef_ did not converge\n",
            "  ConvergenceWarning,\n",
            "/usr/local/lib/python3.7/dist-packages/sklearn/linear_model/_sag.py:354: ConvergenceWarning: The max_iter was reached which means the coef_ did not converge\n",
            "  ConvergenceWarning,\n",
            "/usr/local/lib/python3.7/dist-packages/sklearn/linear_model/_sag.py:354: ConvergenceWarning: The max_iter was reached which means the coef_ did not converge\n",
            "  ConvergenceWarning,\n",
            "/usr/local/lib/python3.7/dist-packages/sklearn/linear_model/_sag.py:354: ConvergenceWarning: The max_iter was reached which means the coef_ did not converge\n",
            "  ConvergenceWarning,\n",
            "/usr/local/lib/python3.7/dist-packages/sklearn/linear_model/_sag.py:354: ConvergenceWarning: The max_iter was reached which means the coef_ did not converge\n",
            "  ConvergenceWarning,\n",
            "/usr/local/lib/python3.7/dist-packages/sklearn/linear_model/_sag.py:354: ConvergenceWarning: The max_iter was reached which means the coef_ did not converge\n",
            "  ConvergenceWarning,\n",
            "/usr/local/lib/python3.7/dist-packages/sklearn/linear_model/_sag.py:354: ConvergenceWarning: The max_iter was reached which means the coef_ did not converge\n",
            "  ConvergenceWarning,\n",
            "/usr/local/lib/python3.7/dist-packages/sklearn/linear_model/_sag.py:354: ConvergenceWarning: The max_iter was reached which means the coef_ did not converge\n",
            "  ConvergenceWarning,\n",
            "/usr/local/lib/python3.7/dist-packages/sklearn/linear_model/_sag.py:354: ConvergenceWarning: The max_iter was reached which means the coef_ did not converge\n",
            "  ConvergenceWarning,\n",
            "/usr/local/lib/python3.7/dist-packages/sklearn/linear_model/_sag.py:354: ConvergenceWarning: The max_iter was reached which means the coef_ did not converge\n",
            "  ConvergenceWarning,\n",
            "/usr/local/lib/python3.7/dist-packages/sklearn/linear_model/_sag.py:354: ConvergenceWarning: The max_iter was reached which means the coef_ did not converge\n",
            "  ConvergenceWarning,\n",
            "/usr/local/lib/python3.7/dist-packages/sklearn/linear_model/_sag.py:354: ConvergenceWarning: The max_iter was reached which means the coef_ did not converge\n",
            "  ConvergenceWarning,\n",
            "/usr/local/lib/python3.7/dist-packages/sklearn/linear_model/_sag.py:354: ConvergenceWarning: The max_iter was reached which means the coef_ did not converge\n",
            "  ConvergenceWarning,\n",
            "/usr/local/lib/python3.7/dist-packages/sklearn/linear_model/_sag.py:354: ConvergenceWarning: The max_iter was reached which means the coef_ did not converge\n",
            "  ConvergenceWarning,\n",
            "/usr/local/lib/python3.7/dist-packages/sklearn/linear_model/_sag.py:354: ConvergenceWarning: The max_iter was reached which means the coef_ did not converge\n",
            "  ConvergenceWarning,\n",
            "/usr/local/lib/python3.7/dist-packages/sklearn/linear_model/_sag.py:354: ConvergenceWarning: The max_iter was reached which means the coef_ did not converge\n",
            "  ConvergenceWarning,\n",
            "/usr/local/lib/python3.7/dist-packages/sklearn/linear_model/_sag.py:354: ConvergenceWarning: The max_iter was reached which means the coef_ did not converge\n",
            "  ConvergenceWarning,\n",
            "/usr/local/lib/python3.7/dist-packages/sklearn/linear_model/_sag.py:354: ConvergenceWarning: The max_iter was reached which means the coef_ did not converge\n",
            "  ConvergenceWarning,\n",
            "/usr/local/lib/python3.7/dist-packages/sklearn/linear_model/_sag.py:354: ConvergenceWarning: The max_iter was reached which means the coef_ did not converge\n",
            "  ConvergenceWarning,\n",
            "/usr/local/lib/python3.7/dist-packages/sklearn/linear_model/_sag.py:354: ConvergenceWarning: The max_iter was reached which means the coef_ did not converge\n",
            "  ConvergenceWarning,\n",
            "/usr/local/lib/python3.7/dist-packages/sklearn/linear_model/_sag.py:354: ConvergenceWarning: The max_iter was reached which means the coef_ did not converge\n",
            "  ConvergenceWarning,\n",
            "/usr/local/lib/python3.7/dist-packages/sklearn/linear_model/_sag.py:354: ConvergenceWarning: The max_iter was reached which means the coef_ did not converge\n",
            "  ConvergenceWarning,\n",
            "/usr/local/lib/python3.7/dist-packages/sklearn/linear_model/_sag.py:354: ConvergenceWarning: The max_iter was reached which means the coef_ did not converge\n",
            "  ConvergenceWarning,\n",
            "/usr/local/lib/python3.7/dist-packages/sklearn/linear_model/_sag.py:354: ConvergenceWarning: The max_iter was reached which means the coef_ did not converge\n",
            "  ConvergenceWarning,\n",
            "/usr/local/lib/python3.7/dist-packages/sklearn/linear_model/_sag.py:354: ConvergenceWarning: The max_iter was reached which means the coef_ did not converge\n",
            "  ConvergenceWarning,\n",
            "/usr/local/lib/python3.7/dist-packages/sklearn/linear_model/_sag.py:354: ConvergenceWarning: The max_iter was reached which means the coef_ did not converge\n",
            "  ConvergenceWarning,\n",
            "/usr/local/lib/python3.7/dist-packages/sklearn/linear_model/_sag.py:354: ConvergenceWarning: The max_iter was reached which means the coef_ did not converge\n",
            "  ConvergenceWarning,\n",
            "/usr/local/lib/python3.7/dist-packages/sklearn/linear_model/_sag.py:354: ConvergenceWarning: The max_iter was reached which means the coef_ did not converge\n",
            "  ConvergenceWarning,\n",
            "/usr/local/lib/python3.7/dist-packages/sklearn/linear_model/_sag.py:354: ConvergenceWarning: The max_iter was reached which means the coef_ did not converge\n",
            "  ConvergenceWarning,\n",
            "/usr/local/lib/python3.7/dist-packages/sklearn/linear_model/_sag.py:354: ConvergenceWarning: The max_iter was reached which means the coef_ did not converge\n",
            "  ConvergenceWarning,\n",
            "/usr/local/lib/python3.7/dist-packages/sklearn/linear_model/_sag.py:354: ConvergenceWarning: The max_iter was reached which means the coef_ did not converge\n",
            "  ConvergenceWarning,\n",
            "/usr/local/lib/python3.7/dist-packages/sklearn/linear_model/_sag.py:354: ConvergenceWarning: The max_iter was reached which means the coef_ did not converge\n",
            "  ConvergenceWarning,\n",
            "/usr/local/lib/python3.7/dist-packages/sklearn/linear_model/_sag.py:354: ConvergenceWarning: The max_iter was reached which means the coef_ did not converge\n",
            "  ConvergenceWarning,\n",
            "/usr/local/lib/python3.7/dist-packages/sklearn/linear_model/_sag.py:354: ConvergenceWarning: The max_iter was reached which means the coef_ did not converge\n",
            "  ConvergenceWarning,\n",
            "/usr/local/lib/python3.7/dist-packages/sklearn/linear_model/_sag.py:354: ConvergenceWarning: The max_iter was reached which means the coef_ did not converge\n",
            "  ConvergenceWarning,\n",
            "/usr/local/lib/python3.7/dist-packages/sklearn/linear_model/_sag.py:354: ConvergenceWarning: The max_iter was reached which means the coef_ did not converge\n",
            "  ConvergenceWarning,\n",
            "/usr/local/lib/python3.7/dist-packages/sklearn/linear_model/_sag.py:354: ConvergenceWarning: The max_iter was reached which means the coef_ did not converge\n",
            "  ConvergenceWarning,\n",
            "/usr/local/lib/python3.7/dist-packages/sklearn/linear_model/_sag.py:354: ConvergenceWarning: The max_iter was reached which means the coef_ did not converge\n",
            "  ConvergenceWarning,\n",
            "/usr/local/lib/python3.7/dist-packages/sklearn/linear_model/_sag.py:354: ConvergenceWarning: The max_iter was reached which means the coef_ did not converge\n",
            "  ConvergenceWarning,\n",
            "/usr/local/lib/python3.7/dist-packages/sklearn/linear_model/_sag.py:354: ConvergenceWarning: The max_iter was reached which means the coef_ did not converge\n",
            "  ConvergenceWarning,\n",
            "/usr/local/lib/python3.7/dist-packages/sklearn/linear_model/_sag.py:354: ConvergenceWarning: The max_iter was reached which means the coef_ did not converge\n",
            "  ConvergenceWarning,\n",
            "/usr/local/lib/python3.7/dist-packages/sklearn/linear_model/_sag.py:354: ConvergenceWarning: The max_iter was reached which means the coef_ did not converge\n",
            "  ConvergenceWarning,\n",
            "/usr/local/lib/python3.7/dist-packages/sklearn/linear_model/_sag.py:354: ConvergenceWarning: The max_iter was reached which means the coef_ did not converge\n",
            "  ConvergenceWarning,\n",
            "/usr/local/lib/python3.7/dist-packages/sklearn/linear_model/_sag.py:354: ConvergenceWarning: The max_iter was reached which means the coef_ did not converge\n",
            "  ConvergenceWarning,\n",
            "/usr/local/lib/python3.7/dist-packages/sklearn/linear_model/_sag.py:354: ConvergenceWarning: The max_iter was reached which means the coef_ did not converge\n",
            "  ConvergenceWarning,\n",
            "/usr/local/lib/python3.7/dist-packages/sklearn/linear_model/_sag.py:354: ConvergenceWarning: The max_iter was reached which means the coef_ did not converge\n",
            "  ConvergenceWarning,\n",
            "/usr/local/lib/python3.7/dist-packages/sklearn/linear_model/_sag.py:354: ConvergenceWarning: The max_iter was reached which means the coef_ did not converge\n",
            "  ConvergenceWarning,\n",
            "/usr/local/lib/python3.7/dist-packages/sklearn/linear_model/_sag.py:354: ConvergenceWarning: The max_iter was reached which means the coef_ did not converge\n",
            "  ConvergenceWarning,\n",
            "/usr/local/lib/python3.7/dist-packages/sklearn/linear_model/_sag.py:354: ConvergenceWarning: The max_iter was reached which means the coef_ did not converge\n",
            "  ConvergenceWarning,\n",
            "/usr/local/lib/python3.7/dist-packages/sklearn/linear_model/_sag.py:354: ConvergenceWarning: The max_iter was reached which means the coef_ did not converge\n",
            "  ConvergenceWarning,\n",
            "/usr/local/lib/python3.7/dist-packages/sklearn/linear_model/_sag.py:354: ConvergenceWarning: The max_iter was reached which means the coef_ did not converge\n",
            "  ConvergenceWarning,\n",
            "/usr/local/lib/python3.7/dist-packages/sklearn/linear_model/_sag.py:354: ConvergenceWarning: The max_iter was reached which means the coef_ did not converge\n",
            "  ConvergenceWarning,\n",
            "/usr/local/lib/python3.7/dist-packages/sklearn/linear_model/_sag.py:354: ConvergenceWarning: The max_iter was reached which means the coef_ did not converge\n",
            "  ConvergenceWarning,\n",
            "/usr/local/lib/python3.7/dist-packages/sklearn/linear_model/_sag.py:354: ConvergenceWarning: The max_iter was reached which means the coef_ did not converge\n",
            "  ConvergenceWarning,\n",
            "/usr/local/lib/python3.7/dist-packages/sklearn/linear_model/_sag.py:354: ConvergenceWarning: The max_iter was reached which means the coef_ did not converge\n",
            "  ConvergenceWarning,\n",
            "/usr/local/lib/python3.7/dist-packages/sklearn/linear_model/_sag.py:354: ConvergenceWarning: The max_iter was reached which means the coef_ did not converge\n",
            "  ConvergenceWarning,\n",
            "/usr/local/lib/python3.7/dist-packages/sklearn/linear_model/_sag.py:354: ConvergenceWarning: The max_iter was reached which means the coef_ did not converge\n",
            "  ConvergenceWarning,\n",
            "/usr/local/lib/python3.7/dist-packages/sklearn/linear_model/_sag.py:354: ConvergenceWarning: The max_iter was reached which means the coef_ did not converge\n",
            "  ConvergenceWarning,\n",
            "/usr/local/lib/python3.7/dist-packages/sklearn/linear_model/_sag.py:354: ConvergenceWarning: The max_iter was reached which means the coef_ did not converge\n",
            "  ConvergenceWarning,\n"
          ]
        },
        {
          "output_type": "execute_result",
          "data": {
            "text/plain": [
              "{'C': 2.832290311184182, 'penalty': 'l1'}"
            ]
          },
          "metadata": {},
          "execution_count": 75
        }
      ]
    },
    {
      "cell_type": "code",
      "source": [
        "modellhyper_report = classification_report(y_true=test1_y, y_pred=search.predict(test1_X))\n",
        "print(modellhyper_report)"
      ],
      "metadata": {
        "colab": {
          "base_uri": "https://localhost:8080/"
        },
        "id": "Dx74fFynW0Cl",
        "outputId": "c5635114-8886-474b-8d1e-ba26affdb6fc"
      },
      "execution_count": 76,
      "outputs": [
        {
          "output_type": "stream",
          "name": "stdout",
          "text": [
            "              precision    recall  f1-score   support\n",
            "\n",
            "           0       0.95      0.98      0.96      2568\n",
            "           1       0.84      0.68      0.75       404\n",
            "\n",
            "    accuracy                           0.94      2972\n",
            "   macro avg       0.89      0.83      0.86      2972\n",
            "weighted avg       0.94      0.94      0.94      2972\n",
            "\n"
          ]
        }
      ]
    },
    {
      "cell_type": "code",
      "source": [
        "search.predict(contoh_review)"
      ],
      "metadata": {
        "colab": {
          "base_uri": "https://localhost:8080/"
        },
        "id": "4OXZFlyHzIZ1",
        "outputId": "14770b55-7d26-42ea-ec9b-5d193e3ebbe6"
      },
      "execution_count": 77,
      "outputs": [
        {
          "output_type": "execute_result",
          "data": {
            "text/plain": [
              "array([1])"
            ]
          },
          "metadata": {},
          "execution_count": 77
        }
      ]
    },
    {
      "cell_type": "markdown",
      "source": [
        "## Modellling using LSTM\n"
      ],
      "metadata": {
        "id": "9ZY9DrHV6z87"
      }
    },
    {
      "cell_type": "code",
      "source": [
        "!pip install -q -U \"tensorflow-text==2.8.*\""
      ],
      "metadata": {
        "colab": {
          "base_uri": "https://localhost:8080/"
        },
        "id": "DMvQJQB17hih",
        "outputId": "3a58d3d8-e415-4215-d35c-a7eeec328ac8"
      },
      "execution_count": 35,
      "outputs": [
        {
          "output_type": "stream",
          "name": "stdout",
          "text": [
            "\u001b[K     |████████████████████████████████| 4.9 MB 5.2 MB/s \n",
            "\u001b[K     |████████████████████████████████| 462 kB 59.9 MB/s \n",
            "\u001b[?25h"
          ]
        }
      ]
    },
    {
      "cell_type": "code",
      "source": [
        "import keras\n",
        "from keras.preprocessing.text import Tokenizer\n",
        "from keras.preprocessing.sequence import pad_sequences\n",
        "import tensorflow as tf\n",
        "import tensorflow_text as text\n",
        "from tensorflow_text.tools.wordpiece_vocab import bert_vocab_from_dataset as bert_vocab"
      ],
      "metadata": {
        "id": "RXxojkgw7Phq"
      },
      "execution_count": 36,
      "outputs": []
    },
    {
      "cell_type": "code",
      "source": [
        "BATCH_SIZE = 32"
      ],
      "metadata": {
        "id": "CauGNvRP6y67"
      },
      "execution_count": 37,
      "outputs": []
    },
    {
      "cell_type": "code",
      "source": [
        "# Ubah input menjadi objek tf.data.Dataset\n",
        "train_dataset = tf.data.Dataset.from_tensor_slices((train_X, train_y))\n",
        "test_dataset = tf.data.Dataset.from_tensor_slices((test_X, test_y))\n",
        "\n",
        "# Terapkan shuffle, batch dan prefetch pada dataset\n",
        "train_dataset = train_dataset.batch(BATCH_SIZE).prefetch(tf.data.AUTOTUNE)\n",
        "test_dataset = test_dataset.batch(BATCH_SIZE).prefetch(tf.data.AUTOTUNE)"
      ],
      "metadata": {
        "id": "AwRQErqi7C3F"
      },
      "execution_count": 38,
      "outputs": []
    },
    {
      "cell_type": "markdown",
      "source": [
        "melihat kembali dataset"
      ],
      "metadata": {
        "id": "N5Xw1-v28HgN"
      }
    },
    {
      "cell_type": "code",
      "source": [
        "for feat, tar in train_dataset.take(1):\n",
        "    print(feat[:3])\n",
        "    print(tar[:3])"
      ],
      "metadata": {
        "colab": {
          "base_uri": "https://localhost:8080/"
        },
        "id": "Qw2UtB3e8FJq",
        "outputId": "256422f5-2d2b-4178-86e4-0991e877c511"
      },
      "execution_count": 39,
      "outputs": [
        {
          "output_type": "stream",
          "name": "stdout",
          "text": [
            "tf.Tensor(\n",
            "[b'bersih sebenernya kasurnya pun nyaman bgt tapi punten euy kamar mandinya ngegenang airnya'\n",
            " b'kl utk interior lokasi kenyamanan n keamanan ok \\xf0\\x9f\\x91\\x8d tp syg saat pertama mau chek in agak susah krn tanda airy rooms nya ngak ada \\xf0\\x9f\\x98\\x9f '\n",
            " b'proses check in lama  saya datang lapor check in 1400 tp bru bisa masuk kamar 1430'], shape=(3,), dtype=string)\n",
            "tf.Tensor([0 1 0], shape=(3,), dtype=int64)\n"
          ]
        }
      ]
    },
    {
      "cell_type": "markdown",
      "source": [
        "### Text Encoder\n"
      ],
      "metadata": {
        "id": "vdsnY4Mu8MOs"
      }
    },
    {
      "cell_type": "code",
      "source": [
        "embedding_dim = 16   \n",
        "encoder = keras.layers.TextVectorization()\n",
        "encoder.adapt(train_dataset.map(lambda feat, tar: feat))"
      ],
      "metadata": {
        "id": "FImQR_I88QYz"
      },
      "execution_count": 40,
      "outputs": []
    },
    {
      "cell_type": "code",
      "source": [
        "encoder(feat)[:3]"
      ],
      "metadata": {
        "colab": {
          "base_uri": "https://localhost:8080/"
        },
        "id": "FFtA33q_8qsk",
        "outputId": "f8d3b6c1-1853-4b26-8494-78238085306b"
      },
      "execution_count": 41,
      "outputs": [
        {
          "output_type": "execute_result",
          "data": {
            "text/plain": [
              "<tf.Tensor: shape=(3, 58), dtype=int64, numpy=\n",
              "array([[  13, 1276,  289,  187,   24,  124,   26, 4504, 5257,    2,  126,\n",
              "        9075,  118,    0,    0,    0,    0,    0,    0,    0,    0,    0,\n",
              "           0,    0,    0,    0,    0,    0,    0,    0,    0,    0,    0,\n",
              "           0,    0,    0,    0,    0,    0,    0,    0,    0,    0,    0,\n",
              "           0,    0,    0,    0,    0,    0,    0,    0,    0,    0,    0,\n",
              "           0,    0,    0],\n",
              "       [ 837,  130, 1087,   79,  480,  230,  858,  148, 1546,   68, 1393,\n",
              "          87,  155,   76,  468,   65,   48,  125,  154, 1163,   14,  312,\n",
              "           8,  765,    5, 2488,    0,    0,    0,    0,    0,    0,    0,\n",
              "           0,    0,    0,    0,    0,    0,    0,    0,    0,    0,    0,\n",
              "           0,    0,    0,    0,    0,    0,    0,    0,    0,    0,    0,\n",
              "           0,    0,    0],\n",
              "       [ 503,   70,   65,   92,   12,  239, 1288,   70,   65, 1205,   68,\n",
              "        1628,   27,   75,    2, 5762,    0,    0,    0,    0,    0,    0,\n",
              "           0,    0,    0,    0,    0,    0,    0,    0,    0,    0,    0,\n",
              "           0,    0,    0,    0,    0,    0,    0,    0,    0,    0,    0,\n",
              "           0,    0,    0,    0,    0,    0,    0,    0,    0,    0,    0,\n",
              "           0,    0,    0]])>"
            ]
          },
          "metadata": {},
          "execution_count": 41
        }
      ]
    },
    {
      "cell_type": "code",
      "source": [
        "# Buat model sequential (berurutan)\n",
        "modellstm = keras.Sequential()\n",
        "modellstm.add(encoder)\n",
        "modellstm.add(keras.layers.Embedding(\n",
        "    input_dim=len(encoder.get_vocabulary()), \n",
        "    output_dim=embedding_dim, \n",
        "    mask_zero=True)\n",
        ")\n",
        "modellstm.add(keras.layers.LSTM(16, return_sequences=True))\n",
        "modellstm.add(keras.layers.LSTM(16))\n",
        "modellstm.add(keras.layers.Dropout(0.5))\n",
        "modellstm.add(keras.layers.Dense(8))\n",
        "modellstm.add(keras.layers.Dense(1, activation=\"sigmoid\"))\n",
        "\n",
        "# Tentukan loss, optimizer dan metrik yang akan digunakan\n",
        "modellstm.compile(loss=\"binary_crossentropy\", \n",
        "              optimizer=\"rmsprop\",\n",
        "              metrics=[\"acc\"])"
      ],
      "metadata": {
        "id": "Jndu8D9Z8uXK"
      },
      "execution_count": 123,
      "outputs": []
    },
    {
      "cell_type": "code",
      "source": [
        "from tensorflow.keras.callbacks import EarlyStopping,ReduceLROnPlateau\n",
        "\n",
        "early_stop = tf.keras.callbacks.EarlyStopping(monitor=\"val_acc\", min_delta=1e-2, patience=1, verbose=1, restore_best_weights=True)\n",
        "reduce_lr_on_plateau = tf.keras.callbacks.ReduceLROnPlateau(monitor=\"val_acc\", factor=1e-1, patience=5, verbose=1, min_delta=1e-2)"
      ],
      "metadata": {
        "id": "llXQZxIhQXF_"
      },
      "execution_count": 101,
      "outputs": []
    },
    {
      "cell_type": "code",
      "source": [
        "! mkdir modellstm"
      ],
      "metadata": {
        "id": "hrwrrghhzYW-"
      },
      "execution_count": 115,
      "outputs": []
    },
    {
      "cell_type": "code",
      "source": [
        "checkpoint_path = \"modellstm/cp.ckpt\"\n",
        "checkpoint_dir = os.path.dirname(checkpoint_path)\n",
        "\n",
        "# Create a callback that saves the model's weights\n",
        "cp_callback = tf.keras.callbacks.ModelCheckpoint(filepath=checkpoint_path,\n",
        "                                                 save_weights_only=True,\n",
        "                                                 verbose=1)\n"
      ],
      "metadata": {
        "id": "qtd1qAM-SeTl"
      },
      "execution_count": 116,
      "outputs": []
    },
    {
      "cell_type": "code",
      "source": [
        "import os"
      ],
      "metadata": {
        "id": "S3BnK_vyQht9"
      },
      "execution_count": 99,
      "outputs": []
    },
    {
      "cell_type": "code",
      "source": [
        ""
      ],
      "metadata": {
        "id": "GdwB9hsSy32K"
      },
      "execution_count": null,
      "outputs": []
    },
    {
      "cell_type": "markdown",
      "source": [
        ""
      ],
      "metadata": {
        "id": "E-SOEIfmCIPV"
      }
    },
    {
      "cell_type": "code",
      "source": [
        "history = modellstm.fit(train_dataset,\n",
        "                    epochs=15,\n",
        "                    validation_data=test_dataset,\n",
        "                    callbacks=[cp_callback])"
      ],
      "metadata": {
        "colab": {
          "base_uri": "https://localhost:8080/"
        },
        "id": "SDeYpgkU9IQV",
        "outputId": "e24c33a5-6412-4d5d-d8e7-7ad8e1c662cf"
      },
      "execution_count": 124,
      "outputs": [
        {
          "output_type": "stream",
          "name": "stdout",
          "text": [
            "Epoch 1/15\n",
            "372/372 [==============================] - ETA: 0s - loss: 0.2957 - acc: 0.9079\n",
            "Epoch 1: saving model to modellstm/cp.ckpt\n",
            "372/372 [==============================] - 45s 83ms/step - loss: 0.2957 - acc: 0.9079 - val_loss: 0.2161 - val_acc: 0.9293\n",
            "Epoch 2/15\n",
            "372/372 [==============================] - ETA: 0s - loss: 0.1788 - acc: 0.9480\n",
            "Epoch 2: saving model to modellstm/cp.ckpt\n",
            "372/372 [==============================] - 27s 73ms/step - loss: 0.1788 - acc: 0.9480 - val_loss: 0.1902 - val_acc: 0.9371\n",
            "Epoch 3/15\n",
            "372/372 [==============================] - ETA: 0s - loss: 0.1531 - acc: 0.9546\n",
            "Epoch 3: saving model to modellstm/cp.ckpt\n",
            "372/372 [==============================] - 27s 72ms/step - loss: 0.1531 - acc: 0.9546 - val_loss: 0.1807 - val_acc: 0.9411\n",
            "Epoch 4/15\n",
            "372/372 [==============================] - ETA: 0s - loss: 0.1396 - acc: 0.9578\n",
            "Epoch 4: saving model to modellstm/cp.ckpt\n",
            "372/372 [==============================] - 27s 72ms/step - loss: 0.1396 - acc: 0.9578 - val_loss: 0.1805 - val_acc: 0.9415\n",
            "Epoch 5/15\n",
            "372/372 [==============================] - ETA: 0s - loss: 0.1340 - acc: 0.9594\n",
            "Epoch 5: saving model to modellstm/cp.ckpt\n",
            "372/372 [==============================] - 28s 74ms/step - loss: 0.1340 - acc: 0.9594 - val_loss: 0.1714 - val_acc: 0.9465\n",
            "Epoch 6/15\n",
            "372/372 [==============================] - ETA: 0s - loss: 0.1287 - acc: 0.9609\n",
            "Epoch 6: saving model to modellstm/cp.ckpt\n",
            "372/372 [==============================] - 27s 73ms/step - loss: 0.1287 - acc: 0.9609 - val_loss: 0.1742 - val_acc: 0.9441\n",
            "Epoch 7/15\n",
            "372/372 [==============================] - ETA: 0s - loss: 0.1232 - acc: 0.9623\n",
            "Epoch 7: saving model to modellstm/cp.ckpt\n",
            "372/372 [==============================] - 27s 73ms/step - loss: 0.1232 - acc: 0.9623 - val_loss: 0.1780 - val_acc: 0.9438\n",
            "Epoch 8/15\n",
            "372/372 [==============================] - ETA: 0s - loss: 0.1189 - acc: 0.9633\n",
            "Epoch 8: saving model to modellstm/cp.ckpt\n",
            "372/372 [==============================] - 27s 72ms/step - loss: 0.1189 - acc: 0.9633 - val_loss: 0.1796 - val_acc: 0.9458\n",
            "Epoch 9/15\n",
            "372/372 [==============================] - ETA: 0s - loss: 0.1135 - acc: 0.9662\n",
            "Epoch 9: saving model to modellstm/cp.ckpt\n",
            "372/372 [==============================] - 27s 72ms/step - loss: 0.1135 - acc: 0.9662 - val_loss: 0.1803 - val_acc: 0.9448\n",
            "Epoch 10/15\n",
            "372/372 [==============================] - ETA: 0s - loss: 0.1072 - acc: 0.9673\n",
            "Epoch 10: saving model to modellstm/cp.ckpt\n",
            "372/372 [==============================] - 27s 72ms/step - loss: 0.1072 - acc: 0.9673 - val_loss: 0.1796 - val_acc: 0.9438\n",
            "Epoch 11/15\n",
            "372/372 [==============================] - ETA: 0s - loss: 0.1024 - acc: 0.9695\n",
            "Epoch 11: saving model to modellstm/cp.ckpt\n",
            "372/372 [==============================] - 27s 71ms/step - loss: 0.1024 - acc: 0.9695 - val_loss: 0.1801 - val_acc: 0.9441\n",
            "Epoch 12/15\n",
            "372/372 [==============================] - ETA: 0s - loss: 0.0975 - acc: 0.9712\n",
            "Epoch 12: saving model to modellstm/cp.ckpt\n",
            "372/372 [==============================] - 27s 72ms/step - loss: 0.0975 - acc: 0.9712 - val_loss: 0.1807 - val_acc: 0.9448\n",
            "Epoch 13/15\n",
            "372/372 [==============================] - ETA: 0s - loss: 0.0941 - acc: 0.9723\n",
            "Epoch 13: saving model to modellstm/cp.ckpt\n",
            "372/372 [==============================] - 27s 72ms/step - loss: 0.0941 - acc: 0.9723 - val_loss: 0.2062 - val_acc: 0.9374\n",
            "Epoch 14/15\n",
            "372/372 [==============================] - ETA: 0s - loss: 0.0853 - acc: 0.9745\n",
            "Epoch 14: saving model to modellstm/cp.ckpt\n",
            "372/372 [==============================] - 27s 72ms/step - loss: 0.0853 - acc: 0.9745 - val_loss: 0.2462 - val_acc: 0.9246\n",
            "Epoch 15/15\n",
            "372/372 [==============================] - ETA: 0s - loss: 0.0827 - acc: 0.9758\n",
            "Epoch 15: saving model to modellstm/cp.ckpt\n",
            "372/372 [==============================] - 27s 73ms/step - loss: 0.0827 - acc: 0.9758 - val_loss: 0.2282 - val_acc: 0.9314\n"
          ]
        }
      ]
    },
    {
      "cell_type": "code",
      "source": [
        "plt.figure()\n",
        "plt.title(\"Akurasi\")\n",
        "plt.plot(history.history[\"acc\"])\n",
        "plt.plot(history.history[\"val_acc\"])\n",
        "\n",
        "plt.figure()\n",
        "plt.title(\"Loss\")\n",
        "plt.plot(history.history[\"loss\"])\n",
        "plt.plot(history.history[\"val_loss\"])\n",
        "\n",
        "plt.show()"
      ],
      "metadata": {
        "colab": {
          "base_uri": "https://localhost:8080/",
          "height": 545
        },
        "id": "X08p4Rt_AnHg",
        "outputId": "d70ca34a-5957-4f05-e3c3-5facbdd23a71"
      },
      "execution_count": 125,
      "outputs": [
        {
          "output_type": "display_data",
          "data": {
            "text/plain": [
              "<Figure size 432x288 with 1 Axes>"
            ],
            "image/png": "[encoded data removed]"
          },
          "metadata": {
            "needs_background": "light"
          }
        },
        {
          "output_type": "display_data",
          "data": {
            "text/plain": [
              "<Figure size 432x288 with 1 Axes>"
            ],
            "image/png": "[encoded data removed]"
          },
          "metadata": {
            "needs_background": "light"
          }
        }
      ]
    },
    {
      "cell_type": "code",
      "source": [
        "modellstm.predict(contoh_review)"
      ],
      "metadata": {
        "colab": {
          "base_uri": "https://localhost:8080/"
        },
        "id": "PTgqUtm0A6I5",
        "outputId": "66d3eec0-38d8-4323-cbe6-f3cdf041daad"
      },
      "execution_count": 127,
      "outputs": [
        {
          "output_type": "execute_result",
          "data": {
            "text/plain": [
              "array([[0.43312216]], dtype=float32)"
            ]
          },
          "metadata": {},
          "execution_count": 127
        }
      ]
    },
    {
      "cell_type": "markdown",
      "source": [
        "menggunakan LSTM menghasilkan akurasi prediksi yang hanpir sama dengan "
      ],
      "metadata": {
        "id": "g6OWWWuGCJZ4"
      }
    },
    {
      "cell_type": "markdown",
      "source": [
        "### Saving model\n"
      ],
      "metadata": {
        "id": "F6NQcTCplsoP"
      }
    },
    {
      "cell_type": "code",
      "source": [
        "pip install pyyaml h5py"
      ],
      "metadata": {
        "colab": {
          "base_uri": "https://localhost:8080/"
        },
        "id": "8PF83Xr528Ua",
        "outputId": "e70f0b66-62e1-45c6-9b98-51508bb91295"
      },
      "execution_count": 46,
      "outputs": [
        {
          "output_type": "stream",
          "name": "stdout",
          "text": [
            "Requirement already satisfied: pyyaml in /usr/local/lib/python3.7/dist-packages (3.13)\n",
            "Requirement already satisfied: h5py in /usr/local/lib/python3.7/dist-packages (3.1.0)\n",
            "Requirement already satisfied: numpy>=1.14.5 in /usr/local/lib/python3.7/dist-packages (from h5py) (1.21.5)\n",
            "Requirement already satisfied: cached-property in /usr/local/lib/python3.7/dist-packages (from h5py) (1.5.2)\n"
          ]
        }
      ]
    },
    {
      "cell_type": "code",
      "source": [
        "!pip install joblib"
      ],
      "metadata": {
        "colab": {
          "base_uri": "https://localhost:8080/"
        },
        "id": "VypttiOMlw5b",
        "outputId": "3b2d1b57-258e-4beb-a729-551a4a8727f7"
      },
      "execution_count": 47,
      "outputs": [
        {
          "output_type": "stream",
          "name": "stdout",
          "text": [
            "Requirement already satisfied: joblib in /usr/local/lib/python3.7/dist-packages (1.1.0)\n"
          ]
        }
      ]
    },
    {
      "cell_type": "code",
      "source": [
        "import joblib"
      ],
      "metadata": {
        "id": "DLREcRsTvzVB"
      },
      "execution_count": 48,
      "outputs": []
    },
    {
      "cell_type": "code",
      "source": [
        "joblib_file = \"modelling_sentimen_analisis1.pkl\"\n",
        "joblib.dump(modelling_pipe1, joblib_file)"
      ],
      "metadata": {
        "colab": {
          "base_uri": "https://localhost:8080/"
        },
        "id": "gXoQ7a4jv3g-",
        "outputId": "4dce3164-9a23-448e-a858-6336ca185050"
      },
      "execution_count": 95,
      "outputs": [
        {
          "output_type": "execute_result",
          "data": {
            "text/plain": [
              "['modelling_sentimen_analisis1.pkl']"
            ]
          },
          "metadata": {},
          "execution_count": 95
        }
      ]
    },
    {
      "cell_type": "code",
      "source": [
        "joblib_file2 = \"modelling_sentimen_analisis2.pkl\"\n",
        "joblib.dump(modelling_pipe3, joblib_file2)"
      ],
      "metadata": {
        "colab": {
          "base_uri": "https://localhost:8080/"
        },
        "id": "9sHu2NP7wBvx",
        "outputId": "6cffcdaa-23c4-4c9c-ddfe-deab0c5d1230"
      },
      "execution_count": 96,
      "outputs": [
        {
          "output_type": "execute_result",
          "data": {
            "text/plain": [
              "['modelling_sentimen_analisis2.pkl']"
            ]
          },
          "metadata": {},
          "execution_count": 96
        }
      ]
    },
    {
      "cell_type": "markdown",
      "source": [
        ""
      ],
      "metadata": {
        "id": "lzZzHYikxpuB"
      }
    },
    {
      "cell_type": "code",
      "source": [
        "joblib_file3 = \"modelling_sentimen_analisis3.pkl\"\n",
        "joblib.dump(modelling_pipe5, joblib_file3)"
      ],
      "metadata": {
        "colab": {
          "base_uri": "https://localhost:8080/"
        },
        "id": "yeD5tdj8xrua",
        "outputId": "b0265576-a622-4942-e82a-6c43242ab31d"
      },
      "execution_count": 97,
      "outputs": [
        {
          "output_type": "execute_result",
          "data": {
            "text/plain": [
              "['modelling_sentimen_analisis3.pkl']"
            ]
          },
          "metadata": {},
          "execution_count": 97
        }
      ]
    },
    {
      "cell_type": "code",
      "source": [
        "modellstm.save(\"analisis_sentimenlstm\",save_format='tf')"
      ],
      "metadata": {
        "colab": {
          "base_uri": "https://localhost:8080/"
        },
        "id": "2QcVYIlm3HAo",
        "outputId": "74305fab-0ff6-4eb5-f2ef-57f1e3cff85c"
      },
      "execution_count": 111,
      "outputs": [
        {
          "output_type": "stream",
          "name": "stderr",
          "text": [
            "WARNING:absl:Found untraced functions such as lstm_cell_layer_call_fn, lstm_cell_layer_call_and_return_conditional_losses, lstm_cell_1_layer_call_fn, lstm_cell_1_layer_call_and_return_conditional_losses while saving (showing 4 of 4). These functions will not be directly callable after loading.\n"
          ]
        },
        {
          "output_type": "stream",
          "name": "stdout",
          "text": [
            "INFO:tensorflow:Assets written to: analisis_sentimenlstm/assets\n"
          ]
        },
        {
          "output_type": "stream",
          "name": "stderr",
          "text": [
            "INFO:tensorflow:Assets written to: analisis_sentimenlstm/assets\n",
            "WARNING:absl:<keras.layers.recurrent.LSTMCell object at 0x7f3120785ad0> has the same name 'LSTMCell' as a built-in Keras object. Consider renaming <class 'keras.layers.recurrent.LSTMCell'> to avoid naming conflicts when loading with `tf.keras.models.load_model`. If renaming is not possible, pass the object in the `custom_objects` parameter of the load function.\n",
            "WARNING:absl:<keras.layers.recurrent.LSTMCell object at 0x7f31237c8890> has the same name 'LSTMCell' as a built-in Keras object. Consider renaming <class 'keras.layers.recurrent.LSTMCell'> to avoid naming conflicts when loading with `tf.keras.models.load_model`. If renaming is not possible, pass the object in the `custom_objects` parameter of the load function.\n"
          ]
        }
      ]
    },
    {
      "cell_type": "code",
      "source": [
        "modellstm.save_weights(\"analisis_sentimenlstm_weights\", save_format='tf')"
      ],
      "metadata": {
        "id": "-7hL_8yi3jqF"
      },
      "execution_count": 52,
      "outputs": []
    },
    {
      "cell_type": "code",
      "source": [
        "modellstm.save_weights(checkpoint_path.format(epoch=10))"
      ],
      "metadata": {
        "id": "XG9yvH47y5gu"
      },
      "execution_count": 130,
      "outputs": []
    },
    {
      "cell_type": "code",
      "source": [
        "modellstm.load_weights(checkpoint_path)"
      ],
      "metadata": {
        "colab": {
          "base_uri": "https://localhost:8080/"
        },
        "id": "mXQJ058X8QHc",
        "outputId": "b4ab4966-0b6e-4a4c-dfc4-a29fc11fff7f"
      },
      "execution_count": 132,
      "outputs": [
        {
          "output_type": "execute_result",
          "data": {
            "text/plain": [
              "<tensorflow.python.training.tracking.util.CheckpointLoadStatus at 0x7f311d637050>"
            ]
          },
          "metadata": {},
          "execution_count": 132
        }
      ]
    },
    {
      "cell_type": "code",
      "source": [
        "loss, acc = modellstm.evaluate(test_X, test_y, verbose=2)\n",
        "print(\"Restored model, accuracy: {:5.2f}%\".format(100 * acc))"
      ],
      "metadata": {
        "colab": {
          "base_uri": "https://localhost:8080/"
        },
        "id": "lHlwQ9-28dQt",
        "outputId": "c764f7be-00e8-4c0e-e4b2-53b0aafacf8e"
      },
      "execution_count": 134,
      "outputs": [
        {
          "output_type": "stream",
          "name": "stdout",
          "text": [
            "93/93 - 8s - loss: 0.2282 - acc: 0.9314 - 8s/epoch - 83ms/step\n",
            "Restored model, accuracy: 93.14%\n"
          ]
        }
      ]
    },
    {
      "cell_type": "markdown",
      "source": [
        "### fungsi untuk prediksi"
      ],
      "metadata": {
        "id": "gJyFcBsz0wlQ"
      }
    },
    {
      "cell_type": "markdown",
      "source": [
        "Fungsi untuk data preprocessing"
      ],
      "metadata": {
        "id": "xayfPTRWvZhq"
      }
    },
    {
      "cell_type": "code",
      "source": [
        "def text_praprocessing(text):\n",
        "    text = text.lower() ## membuat huruf menjadil huruf kecil semua\n",
        "    table = text.maketrans(\"\", \"\", string.punctuation)\n",
        "    text = text.translate(table) ## menghilangkan tanda baca\n",
        "    re.sub(r\"[{}]+\".format(re.sub(r\"[!<_>#:)\\.]\", \"\", string.punctuation)), \" \", text) ## menghilangkan simbol simbol\n",
        "    stemmer.stem(text)\n",
        "    return text"
      ],
      "metadata": {
        "id": "Dlu6VUce3z4p"
      },
      "execution_count": 53,
      "outputs": []
    },
    {
      "cell_type": "markdown",
      "source": [
        "fungsi untuk prediksi untuk modellingpipe 1"
      ],
      "metadata": {
        "id": "ehNcKdJSv3FK"
      }
    },
    {
      "cell_type": "code",
      "source": [
        "# Kita perlu memberikan keterangan pada label 0 dan 1\n",
        "sentiment_map = {0: \"Negatif\", 1: \"Positif\"}\n",
        "\n",
        "def predict_sentiment1(review):\n",
        "    review_clean = text_praprocessing(review)\n",
        "\n",
        "    prediction = int(modelling_pipe1.predict([review_clean]))\n",
        "    sentiment1 =sentiment_map.get(prediction)\n",
        "    return sentiment1"
      ],
      "metadata": {
        "id": "bzYxt1Xyv1r7"
      },
      "execution_count": 57,
      "outputs": []
    },
    {
      "cell_type": "code",
      "source": [
        "coba_review = ('tempat tidur empuk, kamar mandi bersih, ruangan harum')\n",
        "predict_sentiment1(coba_review)"
      ],
      "metadata": {
        "colab": {
          "base_uri": "https://localhost:8080/",
          "height": 35
        },
        "id": "zQUZ0vFm6QkG",
        "outputId": "addf2be3-4a03-4abf-9610-8b8dfe959369"
      },
      "execution_count": 81,
      "outputs": [
        {
          "output_type": "execute_result",
          "data": {
            "text/plain": [
              "'Positif'"
            ],
            "application/vnd.google.colaboratory.intrinsic+json": {
              "type": "string"
            }
          },
          "metadata": {},
          "execution_count": 81
        }
      ]
    },
    {
      "cell_type": "markdown",
      "source": [
        "fungsi untuk prediksi untuk modellingpipe 3"
      ],
      "metadata": {
        "id": "gWLUGWsvxJ6A"
      }
    },
    {
      "cell_type": "code",
      "source": [
        "def predict_sentiment2(review):\n",
        "    review_clean = text_praprocessing(review)\n",
        "\n",
        "    prediction = int(modelling_pipe3.predict([review_clean]))\n",
        "    sentiment2 =sentiment_map.get(prediction)\n",
        "    return sentiment2"
      ],
      "metadata": {
        "id": "oJU4EfGrxN_2"
      },
      "execution_count": 59,
      "outputs": []
    },
    {
      "cell_type": "markdown",
      "source": [
        "fungsi untuk prediksi untuk modelling pipe 1 dengan hyper parameter tuning"
      ],
      "metadata": {
        "id": "NS41mUS_xeG0"
      }
    },
    {
      "cell_type": "code",
      "source": [
        "def predict_sentiment3(review):\n",
        "    review_clean = text_praprocessing(review)\n",
        "\n",
        "    prediction = int(modelling_pipe5.predict([review_clean]))\n",
        "    sentiment3 =sentiment_map.get(prediction)\n",
        "    return sentiment3"
      ],
      "metadata": {
        "id": "zHaNXHtuyxYp"
      },
      "execution_count": 79,
      "outputs": []
    },
    {
      "cell_type": "code",
      "source": [
        "predict_sentiment2(coba_review)"
      ],
      "metadata": {
        "colab": {
          "base_uri": "https://localhost:8080/",
          "height": 35
        },
        "id": "nHf72xpW6i42",
        "outputId": "f7bc5412-f2ac-44a8-d967-9e102c9842d9"
      },
      "execution_count": 82,
      "outputs": [
        {
          "output_type": "execute_result",
          "data": {
            "text/plain": [
              "'Negatif'"
            ],
            "application/vnd.google.colaboratory.intrinsic+json": {
              "type": "string"
            }
          },
          "metadata": {},
          "execution_count": 82
        }
      ]
    },
    {
      "cell_type": "code",
      "source": [
        "predict_sentiment3(coba_review)"
      ],
      "metadata": {
        "colab": {
          "base_uri": "https://localhost:8080/",
          "height": 35
        },
        "id": "XwfBF5xO6i_n",
        "outputId": "d5ce29d7-0739-40ff-f199-e8a5e567c33e"
      },
      "execution_count": 84,
      "outputs": [
        {
          "output_type": "execute_result",
          "data": {
            "text/plain": [
              "'Positif'"
            ],
            "application/vnd.google.colaboratory.intrinsic+json": {
              "type": "string"
            }
          },
          "metadata": {},
          "execution_count": 84
        }
      ]
    },
    {
      "cell_type": "markdown",
      "source": [
        "Fungsi untuk modell lstm"
      ],
      "metadata": {
        "id": "GmxN2L8C6IVq"
      }
    },
    {
      "cell_type": "code",
      "source": [
        "def predict_sentiment4(review):\n",
        "    review_clean = text_praprocessing(review)\n",
        "    prediction = modellstm.predict([review_clean])\n",
        "    if prediction > 0.5 : print('positif')\n",
        "    else : print('negatif')\n",
        "    return prediction"
      ],
      "metadata": {
        "id": "oWZ1G3bb6KTu"
      },
      "execution_count": 128,
      "outputs": []
    },
    {
      "cell_type": "code",
      "source": [
        "predict_sentiment4(coba_review)"
      ],
      "metadata": {
        "colab": {
          "base_uri": "https://localhost:8080/"
        },
        "id": "sSkV0yp77c0G",
        "outputId": "4c362dcf-c630-42df-c848-3ac575717dc0"
      },
      "execution_count": 129,
      "outputs": [
        {
          "output_type": "stream",
          "name": "stdout",
          "text": [
            "positif\n"
          ]
        },
        {
          "output_type": "execute_result",
          "data": {
            "text/plain": [
              "array([[0.9728134]], dtype=float32)"
            ]
          },
          "metadata": {},
          "execution_count": 129
        }
      ]
    }
  ]
}